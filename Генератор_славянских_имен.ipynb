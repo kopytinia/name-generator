{
  "nbformat": 4,
  "nbformat_minor": 0,
  "metadata": {
    "colab": {
      "provenance": []
    },
    "kernelspec": {
      "name": "python3",
      "display_name": "Python 3"
    },
    "language_info": {
      "name": "python"
    }
  },
  "cells": [
    {
      "cell_type": "code",
      "execution_count": 44,
      "metadata": {
        "id": "IkjlPKQo7Q0Y"
      },
      "outputs": [],
      "source": [
        "import requests\n",
        "import re\n",
        "from tqdm.notebook import tqdm\n",
        "import torch\n",
        "from torch import nn\n",
        "from torch.utils.data import DataLoader, Dataset\n",
        "import torchtext"
      ]
    },
    {
      "cell_type": "markdown",
      "source": [
        "### Парсим имена с Википедии ###"
      ],
      "metadata": {
        "id": "yJaUGS7x--E0"
      }
    },
    {
      "cell_type": "code",
      "source": [
        "URL = \"https://ru.wikipedia.org/wiki/%D0%A1%D0%BF%D0%B8%D1%81%D0%BE%D0%BA_%D0%B8%D0%BC%D1%91%D0%BD_%D1%81%D0%BB%D0%B0%D0%B2%D1%8F%D0%BD%D1%81%D0%BA%D0%BE%D0%B3%D0%BE_%D0%BF%D1%80%D0%BE%D0%B8%D1%81%D1%85%D0%BE%D0%B6%D0%B4%D0%B5%D0%BD%D0%B8%D1%8F#:~:text=%D0%9E%D1%81%D0%BD%D0%BE%D0%B2%D0%BD%D1%8B%D0%B5%20%D0%B2%D0%B8%D0%B4%D1%8B%20%D1%81%D0%BB%D0%B0%D0%B2%D1%8F%D0%BD%D1%81%D0%BA%D0%B8%D1%85%20%D0%B8%D0%BC%D1%91%D0%BD%3A,)%D1%88%D0%B0%2C%20%D0%9F%D1%83%D1%82%D1%8F%D1%82%D0%B0%20%D0%B8%20%D1%82.\"\n",
        "r = requests.get(URL)\n",
        "page = r.content.decode(\"utf-8\")"
      ],
      "metadata": {
        "id": "JBB9M5RX8KpQ"
      },
      "execution_count": 6,
      "outputs": []
    },
    {
      "cell_type": "code",
      "source": [
        "names = list(map(lambda x: x[1:-1], re.findall(r'\"[А-Я][а-я]+\"', page)[21:-2]))\n",
        "names[:5]"
      ],
      "metadata": {
        "colab": {
          "base_uri": "https://localhost:8080/"
        },
        "id": "RU76ejMT8OQu",
        "outputId": "564287a5-3478-4c1b-bbf3-fc9644a607fd"
      },
      "execution_count": 232,
      "outputs": [
        {
          "output_type": "execute_result",
          "data": {
            "text/plain": [
              "['Акамир', 'Окомир', 'Славяне', 'Верзиты', 'Беотия']"
            ]
          },
          "metadata": {},
          "execution_count": 232
        }
      ]
    },
    {
      "cell_type": "markdown",
      "source": [
        "### Датасет ###"
      ],
      "metadata": {
        "id": "iTaxrbmZ_FPn"
      }
    },
    {
      "cell_type": "code",
      "source": [
        "class SlavDataset(Dataset):\n",
        "    def __init__(self, names):\n",
        "        self.max_len = max(map(len, names)) + 2\n",
        "        self.names = list(map(self.name_to_list, names))\n",
        "        self.specials = ['<BOS>', '<EOS>', '<PAD>']\n",
        "        cnt = dict()\n",
        "        for name in names:\n",
        "            for l in name.lower():\n",
        "                cnt[l] = cnt.get(l, 0) + 1\n",
        "        \n",
        "        self.vocab = torchtext.vocab.vocab(cnt, specials=self.specials)\n",
        "        self.itos = self.vocab.get_itos()\n",
        "\n",
        "\n",
        "    def name_to_list(self, name):\n",
        "        lst = ['<BOS>']\n",
        "        lst.extend(list(name.lower()))\n",
        "        lst.append('<EOS>')\n",
        "        lst.extend(['<PAD>']*(self.max_len - len(name) - 2))\n",
        "        return lst\n",
        "\n",
        "    def transform_prefix(self, prefix):\n",
        "        lst = ['<BOS>'] + list(prefix.lower())\n",
        "        return self.encode(lst)\n",
        "\n",
        "    def __len__(self):\n",
        "        return len(self.names)\n",
        "\n",
        "    def encode(self, name):\n",
        "        return torch.tensor([self.vocab[l] for l in name])\n",
        "\n",
        "    def decode(self, seq):\n",
        "        return ''.join([self.itos[idx] for idx in seq if self.itos[idx] not in self.specials]).capitalize()\n",
        "\n",
        "    def __getitem__(self, item):\n",
        "        return self.encode(self.names[item])"
      ],
      "metadata": {
        "id": "Wckwfq23-n9o"
      },
      "execution_count": 102,
      "outputs": []
    },
    {
      "cell_type": "code",
      "source": [
        "dataset = SlavDataset(names)\n",
        "dataloader = DataLoader(dataset, batch_size=4, shuffle=True)"
      ],
      "metadata": {
        "id": "L17D8chzfBEU"
      },
      "execution_count": 233,
      "outputs": []
    },
    {
      "cell_type": "markdown",
      "source": [
        "### Модель ###"
      ],
      "metadata": {
        "id": "tN1kBmcC_ITS"
      }
    },
    {
      "cell_type": "code",
      "source": [
        "class SlavNet(nn.Module):\n",
        "    def __init__(self, input_size=34, hidden_size=128):\n",
        "        super(SlavNet, self).__init__()\n",
        "        self.input_size = input_size\n",
        "        self.hidden_size = hidden_size\n",
        "        #self.emb = nn.Embedding(len(dataset.vocab), len(dataset.vocab), dataset.vocab['<PAD>'])\n",
        "        self.RNN = nn.RNN(input_size=input_size, hidden_size=hidden_size, batch_first=True)\n",
        "        self.linear = nn.Linear(hidden_size, input_size)\n",
        "        \n",
        "    def forward(self, X): # Скрытое состояние тоже неплохо было бы передавать\n",
        "        output, h_n = self.RNN(torch.eye(self.input_size)[X])\n",
        "        y = self.linear(output)\n",
        "        return y"
      ],
      "metadata": {
        "id": "f_IxBiD8GC2s"
      },
      "execution_count": 72,
      "outputs": []
    },
    {
      "cell_type": "markdown",
      "source": [
        "### Обучение ###"
      ],
      "metadata": {
        "id": "UEwrRjR2_Liq"
      }
    },
    {
      "cell_type": "code",
      "source": [
        "model = SlavNet(len(dataset.vocab), 128)\n",
        "\n",
        "torch.manual_seed(0)\n",
        "EPOCHS = 100\n",
        "\n",
        "loss_function = nn.CrossEntropyLoss(ignore_index=dataset.vocab['<PAD>'])\n",
        "optim = torch.optim.Adam(model.parameters(), lr=10e-5)\n",
        "\n",
        "for epoch in range(EPOCHS):\n",
        "    if epoch % 10 == 0:\n",
        "        model.train(False)\n",
        "        with torch.no_grad():\n",
        "            loss = 0\n",
        "            for batch in dataloader:\n",
        "                y_pred = model(batch)\n",
        "                target = batch[:, 1:]\n",
        "                target = torch.cat([target, torch.tensor(dataset.vocab['<PAD>']).expand(batch.shape[0], 1)], dim=1)\n",
        "                loss = loss_function(y_pred.transpose(1, 2), target)\n",
        "        print(f'epoch: {epoch}\\tloss: {loss}')\n",
        "\n",
        "    model.train(True)\n",
        "    for batch in dataloader:\n",
        "        optim.zero_grad()\n",
        "        \n",
        "        y_pred = model(batch)\n",
        "        target = batch[:, 1:]\n",
        "        target = torch.cat([target, torch.tensor(dataset.vocab['<PAD>']).expand(batch.shape[0], 1)], dim=1)\n",
        "        loss = loss_function(y_pred.transpose(1, 2), target)\n",
        "        loss.backward()\n",
        "        optim.step()\n",
        "\n",
        "\n",
        "if epoch % 10 == 0:\n",
        "    model.train(False)\n",
        "    with torch.no_grad():\n",
        "        loss = 0\n",
        "        for batch in dataloader:\n",
        "            y_pred = model(batch)\n",
        "            target = batch[:, 1:]\n",
        "            target = torch.cat([target, torch.tensor(dataset.vocab['<PAD>']).expand(batch.shape[0], 1)], dim=1)\n",
        "            loss = loss_function(y_pred.transpose(1, 2), target)\n",
        "    print(f'epoch: {epoch}\\tloss: {loss}')"
      ],
      "metadata": {
        "colab": {
          "base_uri": "https://localhost:8080/"
        },
        "id": "gzA-mw71ldPq",
        "outputId": "10455434-e037-4a26-ec69-f89258640540"
      },
      "execution_count": 234,
      "outputs": [
        {
          "output_type": "stream",
          "name": "stdout",
          "text": [
            "epoch: 0\tloss: 3.534287929534912\n",
            "epoch: 10\tloss: 2.72800612449646\n",
            "epoch: 20\tloss: 2.651874303817749\n",
            "epoch: 30\tloss: 2.431600570678711\n",
            "epoch: 40\tloss: 2.7108309268951416\n",
            "epoch: 50\tloss: 2.454420328140259\n",
            "epoch: 60\tloss: 2.096609592437744\n",
            "epoch: 70\tloss: 2.257362127304077\n",
            "epoch: 80\tloss: 1.94295334815979\n",
            "epoch: 90\tloss: 2.517194986343384\n"
          ]
        }
      ]
    },
    {
      "cell_type": "markdown",
      "source": [
        "### Генерация имен ###"
      ],
      "metadata": {
        "id": "E__PUG9q-GVn"
      }
    },
    {
      "cell_type": "code",
      "source": [
        "prefix = 'Ко'\n",
        "torch.manual_seed(0)\n",
        "code = dataset.transform_prefix(prefix)\n",
        "with torch.no_grad():\n",
        "    while code[-1] != dataset.vocab['<EOS>'] and len(code) < 100:\n",
        "        output = model(code)[-1, :]\n",
        "        y = torch.argmax(output)\n",
        "        # y = torch.topk(output, k=2).indices[torch.randint(2, (1, ))]\n",
        "        code = torch.cat([code, torch.tensor([y])], dim=0)\n",
        "\n",
        "dataset.decode(code)"
      ],
      "metadata": {
        "colab": {
          "base_uri": "https://localhost:8080/",
          "height": 36
        },
        "id": "hYffvjA1xrOJ",
        "outputId": "e1a49c3a-e133-423a-82f6-a7f80598a94a"
      },
      "execution_count": 238,
      "outputs": [
        {
          "output_type": "execute_result",
          "data": {
            "text/plain": [
              "'Коромир'"
            ],
            "application/vnd.google.colaboratory.intrinsic+json": {
              "type": "string"
            }
          },
          "metadata": {},
          "execution_count": 238
        }
      ]
    }
  ]
}